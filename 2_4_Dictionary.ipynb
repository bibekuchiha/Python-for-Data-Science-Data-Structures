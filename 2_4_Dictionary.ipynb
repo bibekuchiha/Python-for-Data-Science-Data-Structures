{
  "nbformat": 4,
  "nbformat_minor": 0,
  "metadata": {
    "kernelspec": {
      "display_name": "Python 3",
      "language": "python",
      "name": "python3"
    },
    "language_info": {
      "codemirror_mode": {
        "name": "ipython",
        "version": 3
      },
      "file_extension": ".py",
      "mimetype": "text/x-python",
      "name": "python",
      "nbconvert_exporter": "python",
      "pygments_lexer": "ipython3",
      "version": "3.6.1"
    },
    "colab": {
      "name": "2.4.Dictionary.ipynb",
      "provenance": [],
      "include_colab_link": true
    }
  },
  "cells": [
    {
      "cell_type": "markdown",
      "metadata": {
        "id": "view-in-github",
        "colab_type": "text"
      },
      "source": [
        "<a href=\"https://colab.research.google.com/github/bibekuchiha/Python-for-Data-Science-Data-Structures/blob/master/2_4_Dictionary.ipynb\" target=\"_parent\"><img src=\"https://colab.research.google.com/assets/colab-badge.svg\" alt=\"Open In Colab\"/></a>"
      ]
    },
    {
      "cell_type": "markdown",
      "metadata": {
        "id": "s6wRWQbM8YWK",
        "colab_type": "text"
      },
      "source": [
        "# Dictionary"
      ]
    },
    {
      "cell_type": "markdown",
      "metadata": {
        "id": "CQgSdaRE8YWP",
        "colab_type": "text"
      },
      "source": [
        "Python dictionary is an unordered collection of items. While other compound data types have only value as an element, a dictionary has a key: value pair."
      ]
    },
    {
      "cell_type": "markdown",
      "metadata": {
        "id": "QNZdRerx8YWQ",
        "colab_type": "text"
      },
      "source": [
        "# Dict Creation"
      ]
    },
    {
      "cell_type": "code",
      "metadata": {
        "id": "PhZ00ce88YWS",
        "colab_type": "code",
        "outputId": "d993aef2-8265-4701-deb5-739513a156ed",
        "colab": {
          "base_uri": "https://localhost:8080/",
          "height": 69
        }
      },
      "source": [
        "#empty dictionary\n",
        "my_dict = {}\n",
        "\n",
        "#dictionary with integer keys\n",
        "my_dict = {1: 'abc', 2: 'xyz'}\n",
        "print(my_dict)\n",
        "\n",
        "#dictionary with mixed keys\n",
        "my_dict = {'name': 'bibek', 1: ['abc', 'xyz']}\n",
        "print(my_dict)\n",
        "\n",
        "\n",
        "#create empty dictionary using dict()\n",
        "my_dict = dict()\n",
        "\n",
        "my_dict = dict([(1, 'abc'), (2, 'xyz')])    #create a dict with list of tuples\n",
        "print(my_dict)"
      ],
      "execution_count": 1,
      "outputs": [
        {
          "output_type": "stream",
          "text": [
            "{1: 'abc', 2: 'xyz'}\n",
            "{'name': 'bibek', 1: ['abc', 'xyz']}\n",
            "{1: 'abc', 2: 'xyz'}\n"
          ],
          "name": "stdout"
        }
      ]
    },
    {
      "cell_type": "markdown",
      "metadata": {
        "id": "CsZFln1r8YWf",
        "colab_type": "text"
      },
      "source": [
        "# Dict Access"
      ]
    },
    {
      "cell_type": "code",
      "metadata": {
        "id": "nCQLFclM8YWh",
        "colab_type": "code",
        "outputId": "4ff92ea4-6d17-4595-c363-35881a8c245b",
        "colab": {
          "base_uri": "https://localhost:8080/",
          "height": 34
        }
      },
      "source": [
        "my_dict = {'name': 'Bibek', 'age': 23, 'address': 'itahari'}\n",
        "\n",
        "#get name\n",
        "print(my_dict['name'])"
      ],
      "execution_count": 2,
      "outputs": [
        {
          "output_type": "stream",
          "text": [
            "Bibek\n"
          ],
          "name": "stdout"
        }
      ]
    },
    {
      "cell_type": "code",
      "metadata": {
        "id": "BYsuLB548YWl",
        "colab_type": "code",
        "outputId": "e16efde3-bfbd-4312-b1d1-0ff5f5e994fe",
        "colab": {
          "base_uri": "https://localhost:8080/",
          "height": 185
        }
      },
      "source": [
        "#if key is not present it gives KeyError\n",
        "print(my_dict['degree'])"
      ],
      "execution_count": 3,
      "outputs": [
        {
          "output_type": "error",
          "ename": "KeyError",
          "evalue": "ignored",
          "traceback": [
            "\u001b[0;31m---------------------------------------------------------------------------\u001b[0m",
            "\u001b[0;31mKeyError\u001b[0m                                  Traceback (most recent call last)",
            "\u001b[0;32m<ipython-input-3-ac4c061783ba>\u001b[0m in \u001b[0;36m<module>\u001b[0;34m()\u001b[0m\n\u001b[1;32m      1\u001b[0m \u001b[0;31m#if key is not present it gives KeyError\u001b[0m\u001b[0;34m\u001b[0m\u001b[0;34m\u001b[0m\u001b[0;34m\u001b[0m\u001b[0m\n\u001b[0;32m----> 2\u001b[0;31m \u001b[0mprint\u001b[0m\u001b[0;34m(\u001b[0m\u001b[0mmy_dict\u001b[0m\u001b[0;34m[\u001b[0m\u001b[0;34m'degree'\u001b[0m\u001b[0;34m]\u001b[0m\u001b[0;34m)\u001b[0m\u001b[0;34m\u001b[0m\u001b[0;34m\u001b[0m\u001b[0m\n\u001b[0m",
            "\u001b[0;31mKeyError\u001b[0m: 'degree'"
          ]
        }
      ]
    },
    {
      "cell_type": "code",
      "metadata": {
        "id": "WNJMH4qp8YWo",
        "colab_type": "code",
        "outputId": "da15ae34-6199-449b-d2ed-2a83cfe3815a",
        "colab": {
          "base_uri": "https://localhost:8080/",
          "height": 34
        }
      },
      "source": [
        "#another way of accessing key\n",
        "print(my_dict.get('address'))"
      ],
      "execution_count": 4,
      "outputs": [
        {
          "output_type": "stream",
          "text": [
            "itahari\n"
          ],
          "name": "stdout"
        }
      ]
    },
    {
      "cell_type": "code",
      "metadata": {
        "id": "fwrZjWaD8YWs",
        "colab_type": "code",
        "outputId": "89efa283-5865-4755-c39d-9e5641671a72",
        "colab": {
          "base_uri": "https://localhost:8080/",
          "height": 34
        }
      },
      "source": [
        "#if key is not present it will give None using get method\n",
        "print(my_dict.get('degree'))"
      ],
      "execution_count": 5,
      "outputs": [
        {
          "output_type": "stream",
          "text": [
            "None\n"
          ],
          "name": "stdout"
        }
      ]
    },
    {
      "cell_type": "markdown",
      "metadata": {
        "id": "QVQG50dG8YWy",
        "colab_type": "text"
      },
      "source": [
        "# Dict Add or Modify  Elements"
      ]
    },
    {
      "cell_type": "code",
      "metadata": {
        "id": "Cg9LrSiL8YW0",
        "colab_type": "code",
        "outputId": "ebde30d8-d63c-442c-d93b-ac5e41eae8e3",
        "colab": {
          "base_uri": "https://localhost:8080/",
          "height": 34
        }
      },
      "source": [
        "my_dict = {'name': 'Bibek', 'age': 23, 'address': 'Itahari'}\n",
        "\n",
        "#update name \n",
        "my_dict['name'] = 'David'\n",
        "\n",
        "print(my_dict)"
      ],
      "execution_count": 6,
      "outputs": [
        {
          "output_type": "stream",
          "text": [
            "{'name': 'David', 'age': 23, 'address': 'Itahari'}\n"
          ],
          "name": "stdout"
        }
      ]
    },
    {
      "cell_type": "code",
      "metadata": {
        "id": "CZ2yD3Yv8YW5",
        "colab_type": "code",
        "outputId": "f779d86c-c153-458a-b366-0570bac7b9bd",
        "colab": {
          "base_uri": "https://localhost:8080/",
          "height": 34
        }
      },
      "source": [
        "#add new key\n",
        "my_dict['degree'] = 'B.E'\n",
        "\n",
        "print(my_dict)"
      ],
      "execution_count": 7,
      "outputs": [
        {
          "output_type": "stream",
          "text": [
            "{'name': 'David', 'age': 23, 'address': 'Itahari', 'degree': 'B.E'}\n"
          ],
          "name": "stdout"
        }
      ]
    },
    {
      "cell_type": "markdown",
      "metadata": {
        "id": "JlbqO1N78YW8",
        "colab_type": "text"
      },
      "source": [
        "# Dict Delete or Remove Element"
      ]
    },
    {
      "cell_type": "code",
      "metadata": {
        "id": "8WJsHD9E8YW9",
        "colab_type": "code",
        "outputId": "51c884b0-b7bc-439c-ef85-6b5fed1b2dff",
        "colab": {
          "base_uri": "https://localhost:8080/",
          "height": 52
        }
      },
      "source": [
        "#create a dictionary\n",
        "my_dict = {'name': 'Bibek', 'age': 23, 'address': 'Itahari'}\n",
        "\n",
        "#remove a particular item\n",
        "print(my_dict.pop('age'))\n",
        "\n",
        "print(my_dict)"
      ],
      "execution_count": 8,
      "outputs": [
        {
          "output_type": "stream",
          "text": [
            "23\n",
            "{'name': 'Bibek', 'address': 'Itahari'}\n"
          ],
          "name": "stdout"
        }
      ]
    },
    {
      "cell_type": "code",
      "metadata": {
        "id": "l65nK-cQ8YXA",
        "colab_type": "code",
        "outputId": "431c2a1d-a6bf-45e4-9f09-20fa031729a1",
        "colab": {
          "base_uri": "https://localhost:8080/",
          "height": 34
        }
      },
      "source": [
        "my_dict ={'name': 'Bibek', 'age': 23, 'address': 'Itahari'}\n",
        "\n",
        "#remove an arbitarty key\n",
        "my_dict.popitem()\n",
        "\n",
        "print(my_dict)"
      ],
      "execution_count": 12,
      "outputs": [
        {
          "output_type": "stream",
          "text": [
            "{'name': 'Bibek', 'age': 23}\n"
          ],
          "name": "stdout"
        }
      ]
    },
    {
      "cell_type": "code",
      "metadata": {
        "id": "TY12fl4Q8YXD",
        "colab_type": "code",
        "outputId": "a7747280-b69b-4a65-c538-a974e8c1ce98",
        "colab": {
          "base_uri": "https://localhost:8080/",
          "height": 34
        }
      },
      "source": [
        "squares = {2: 4, 3: 9, 4: 16, 5: 25}\n",
        "\n",
        "#delete particular key\n",
        "del squares[2]\n",
        "\n",
        "print(squares)"
      ],
      "execution_count": 13,
      "outputs": [
        {
          "output_type": "stream",
          "text": [
            "{3: 9, 4: 16, 5: 25}\n"
          ],
          "name": "stdout"
        }
      ]
    },
    {
      "cell_type": "code",
      "metadata": {
        "id": "WaE9o6-j8YXG",
        "colab_type": "code",
        "outputId": "caf03bf0-e8ce-4e06-b741-223a967bfb20",
        "colab": {
          "base_uri": "https://localhost:8080/",
          "height": 34
        }
      },
      "source": [
        "#remove all items\n",
        "squares.clear()\n",
        "\n",
        "print(squares)"
      ],
      "execution_count": 14,
      "outputs": [
        {
          "output_type": "stream",
          "text": [
            "{}\n"
          ],
          "name": "stdout"
        }
      ]
    },
    {
      "cell_type": "code",
      "metadata": {
        "id": "LUrIAJo58YXK",
        "colab_type": "code",
        "outputId": "a478677f-e3b5-4f15-b275-bf2fb7abf027",
        "colab": {
          "base_uri": "https://localhost:8080/",
          "height": 202
        }
      },
      "source": [
        "squares = {2: 4, 3: 9, 4: 16, 5: 25}\n",
        "\n",
        "#delete dictionary itself\n",
        "del squares\n",
        "\n",
        "print(squares) #NameError because dict is deleted"
      ],
      "execution_count": 15,
      "outputs": [
        {
          "output_type": "error",
          "ename": "NameError",
          "evalue": "ignored",
          "traceback": [
            "\u001b[0;31m---------------------------------------------------------------------------\u001b[0m",
            "\u001b[0;31mNameError\u001b[0m                                 Traceback (most recent call last)",
            "\u001b[0;32m<ipython-input-15-6fac7747ecad>\u001b[0m in \u001b[0;36m<module>\u001b[0;34m()\u001b[0m\n\u001b[1;32m      4\u001b[0m \u001b[0;32mdel\u001b[0m \u001b[0msquares\u001b[0m\u001b[0;34m\u001b[0m\u001b[0;34m\u001b[0m\u001b[0m\n\u001b[1;32m      5\u001b[0m \u001b[0;34m\u001b[0m\u001b[0m\n\u001b[0;32m----> 6\u001b[0;31m \u001b[0mprint\u001b[0m\u001b[0;34m(\u001b[0m\u001b[0msquares\u001b[0m\u001b[0;34m)\u001b[0m \u001b[0;31m#NameError because dict is deleted\u001b[0m\u001b[0;34m\u001b[0m\u001b[0;34m\u001b[0m\u001b[0m\n\u001b[0m",
            "\u001b[0;31mNameError\u001b[0m: name 'squares' is not defined"
          ]
        }
      ]
    },
    {
      "cell_type": "markdown",
      "metadata": {
        "id": "umrKAvuz8YXP",
        "colab_type": "text"
      },
      "source": [
        "# Dictionary Methods"
      ]
    },
    {
      "cell_type": "code",
      "metadata": {
        "id": "pC6eM-Uz8YXQ",
        "colab_type": "code",
        "outputId": "b5fc5cc3-c47c-4363-ccf1-8fc14d9f098a",
        "colab": {
          "base_uri": "https://localhost:8080/",
          "height": 34
        }
      },
      "source": [
        "squares = {2: 4, 3: 9, 4: 16, 5: 25}\n",
        "\n",
        "my_dict = squares.copy()\n",
        "print(my_dict)"
      ],
      "execution_count": 16,
      "outputs": [
        {
          "output_type": "stream",
          "text": [
            "{2: 4, 3: 9, 4: 16, 5: 25}\n"
          ],
          "name": "stdout"
        }
      ]
    },
    {
      "cell_type": "code",
      "metadata": {
        "id": "8smTk2Jr8YXT",
        "colab_type": "code",
        "outputId": "8f8516d2-c0b9-4639-ec27-5e1f8cc23003",
        "colab": {
          "base_uri": "https://localhost:8080/",
          "height": 34
        }
      },
      "source": [
        "#fromkeys[seq[, v]] -> Return a new dictionary with keys from seq and value equal to v (defaults to None).\n",
        "subjects = {}.fromkeys(['Math', 'English', 'Hindi'], 0)\n",
        "print(subjects)"
      ],
      "execution_count": 19,
      "outputs": [
        {
          "output_type": "stream",
          "text": [
            "{'Math': 0, 'English': 0, 'Hindi': 0}\n"
          ],
          "name": "stdout"
        }
      ]
    },
    {
      "cell_type": "code",
      "metadata": {
        "id": "-wW9T7Id8YXW",
        "colab_type": "code",
        "outputId": "1c83c76c-1cb3-4108-91eb-40d012167fd1",
        "colab": {
          "base_uri": "https://localhost:8080/",
          "height": 34
        }
      },
      "source": [
        "subjects = {2:4, 3:9, 4:16, 5:25}\n",
        "print(subjects.items()) #return a new view of the dictionary items (key, value)"
      ],
      "execution_count": 20,
      "outputs": [
        {
          "output_type": "stream",
          "text": [
            "dict_items([(2, 4), (3, 9), (4, 16), (5, 25)])\n"
          ],
          "name": "stdout"
        }
      ]
    },
    {
      "cell_type": "code",
      "metadata": {
        "id": "YMjrhvUr8YXZ",
        "colab_type": "code",
        "outputId": "57e8184b-fed1-44b6-8356-9b840839266e",
        "colab": {
          "base_uri": "https://localhost:8080/",
          "height": 34
        }
      },
      "source": [
        "subjects = {2:4, 3:9, 4:16, 5:25}\n",
        "print(subjects.keys()) #return a new view of the dictionary keys"
      ],
      "execution_count": 21,
      "outputs": [
        {
          "output_type": "stream",
          "text": [
            "dict_keys([2, 3, 4, 5])\n"
          ],
          "name": "stdout"
        }
      ]
    },
    {
      "cell_type": "code",
      "metadata": {
        "id": "B2AU0n-Z8YXd",
        "colab_type": "code",
        "outputId": "0a97a20f-e496-4fe4-d154-da057217bd78",
        "colab": {
          "base_uri": "https://localhost:8080/",
          "height": 34
        }
      },
      "source": [
        "subjects = {2:4, 3:9, 4:16, 5:25}\n",
        "print(subjects.values()) #return a new view of the dictionary values"
      ],
      "execution_count": 22,
      "outputs": [
        {
          "output_type": "stream",
          "text": [
            "dict_values([4, 9, 16, 25])\n"
          ],
          "name": "stdout"
        }
      ]
    },
    {
      "cell_type": "code",
      "metadata": {
        "id": "Hy5A9de58YXg",
        "colab_type": "code",
        "outputId": "b8a1f7c7-bdc5-4eb6-e1bc-9f8207a2b771",
        "colab": {
          "base_uri": "https://localhost:8080/",
          "height": 54
        }
      },
      "source": [
        "#get list of all available methods and attributes of dictionary\n",
        "d = {}\n",
        "print(dir(d))"
      ],
      "execution_count": 23,
      "outputs": [
        {
          "output_type": "stream",
          "text": [
            "['__class__', '__contains__', '__delattr__', '__delitem__', '__dir__', '__doc__', '__eq__', '__format__', '__ge__', '__getattribute__', '__getitem__', '__gt__', '__hash__', '__init__', '__init_subclass__', '__iter__', '__le__', '__len__', '__lt__', '__ne__', '__new__', '__reduce__', '__reduce_ex__', '__repr__', '__setattr__', '__setitem__', '__sizeof__', '__str__', '__subclasshook__', 'clear', 'copy', 'fromkeys', 'get', 'items', 'keys', 'pop', 'popitem', 'setdefault', 'update', 'values']\n"
          ],
          "name": "stdout"
        }
      ]
    },
    {
      "cell_type": "markdown",
      "metadata": {
        "id": "YCcb_-y_8YXo",
        "colab_type": "text"
      },
      "source": [
        "# Dict Comprehension"
      ]
    },
    {
      "cell_type": "code",
      "metadata": {
        "id": "b8nEYWrB8YXr",
        "colab_type": "code",
        "outputId": "5da8398f-bd77-4cf3-9de0-5972d02b6922",
        "colab": {
          "base_uri": "https://localhost:8080/",
          "height": 69
        }
      },
      "source": [
        "#Dict comprehensions are just like list comprehensions but for dictionaries\n",
        "\n",
        "d = {'a': 1, 'b': 2, 'c': 3}\n",
        "for pair in d.items():\n",
        "    print(pair)"
      ],
      "execution_count": 24,
      "outputs": [
        {
          "output_type": "stream",
          "text": [
            "('a', 1)\n",
            "('b', 2)\n",
            "('c', 3)\n"
          ],
          "name": "stdout"
        }
      ]
    },
    {
      "cell_type": "code",
      "metadata": {
        "id": "sKVoZ74V8YXw",
        "colab_type": "code",
        "outputId": "1f570134-f996-4f89-eb5d-a270323a9b5c",
        "colab": {
          "base_uri": "https://localhost:8080/",
          "height": 34
        }
      },
      "source": [
        "#Creating a new dictionary with only pairs where the value is larger than 2\n",
        "d = {'a': 1, 'b': 2, 'c': 3, 'd': 4}\n",
        "new_dict = {k:v for k, v in d.items() if v > 2}\n",
        "print(new_dict)"
      ],
      "execution_count": 25,
      "outputs": [
        {
          "output_type": "stream",
          "text": [
            "{'c': 3, 'd': 4}\n"
          ],
          "name": "stdout"
        }
      ]
    },
    {
      "cell_type": "code",
      "metadata": {
        "id": "JE08JjT28YXz",
        "colab_type": "code",
        "outputId": "073f698f-e635-4553-fb73-116b9bfc8f90",
        "colab": {
          "base_uri": "https://localhost:8080/",
          "height": 34
        }
      },
      "source": [
        "#We can also perform operations on the key value pairs\n",
        "d = {'a':1,'b':2,'c':3,'d':4,'e':5}\n",
        "d = {k + 'c':v * 2 for k, v in d.items() if v > 2}\n",
        "print(d)"
      ],
      "execution_count": 26,
      "outputs": [
        {
          "output_type": "stream",
          "text": [
            "{'cc': 6, 'dc': 8, 'ec': 10}\n"
          ],
          "name": "stdout"
        }
      ]
    },
    {
      "cell_type": "code",
      "metadata": {
        "id": "g8b_0DPE8YX1",
        "colab_type": "code",
        "colab": {}
      },
      "source": [
        ""
      ],
      "execution_count": 0,
      "outputs": []
    }
  ]
}