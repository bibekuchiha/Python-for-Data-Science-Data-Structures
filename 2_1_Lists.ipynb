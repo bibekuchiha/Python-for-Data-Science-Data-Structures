{
  "nbformat": 4,
  "nbformat_minor": 0,
  "metadata": {
    "colab": {
      "name": "2.1.Lists.ipynb",
      "provenance": [],
      "collapsed_sections": [],
      "include_colab_link": true
    },
    "kernelspec": {
      "display_name": "Python 3",
      "language": "python",
      "name": "python3"
    }
  },
  "cells": [
    {
      "cell_type": "markdown",
      "metadata": {
        "id": "view-in-github",
        "colab_type": "text"
      },
      "source": [
        "<a href=\"https://colab.research.google.com/github/bibekuchiha/Python-for-Data-Science-Data-Structures/blob/master/2_1_Lists.ipynb\" target=\"_parent\"><img src=\"https://colab.research.google.com/assets/colab-badge.svg\" alt=\"Open In Colab\"/></a>"
      ]
    },
    {
      "cell_type": "markdown",
      "metadata": {
        "id": "NdXy-T5zaAaF",
        "colab_type": "text"
      },
      "source": [
        "# Lists"
      ]
    },
    {
      "cell_type": "markdown",
      "metadata": {
        "id": "d2abr_4DaAaG",
        "colab_type": "text"
      },
      "source": [
        "Data Structure:\n",
        "    \n",
        "A data structure is a collection of data elements (such as numbers or characters—or even other data structures) that is structured in some way, for example, by numbering the elements. The most basic data structure in Python is the \"sequence\"."
      ]
    },
    {
      "cell_type": "markdown",
      "metadata": {
        "id": "_OkL1n_saAaI",
        "colab_type": "text"
      },
      "source": [
        "-> List is one of the Sequence Data structure\n",
        "\n",
        "-> Lists are collection of items (Strings, integers or even other lists)\n",
        "\n",
        "-> Lists are enclosed in [ ]\n",
        "\n",
        "-> Each item in the list has an assigned index value.\n",
        "\n",
        "-> Each item in a list is separated by a comma\n",
        "\n",
        "-> Lists are mutable, which means they can be changed.\n"
      ]
    },
    {
      "cell_type": "markdown",
      "metadata": {
        "collapsed": true,
        "id": "y6E87CNkaAaI",
        "colab_type": "text"
      },
      "source": [
        "# List Creation"
      ]
    },
    {
      "cell_type": "code",
      "metadata": {
        "id": "3xDIU3qfaAaJ",
        "colab_type": "code",
        "outputId": "352e7cde-49d8-4ee0-bbb8-58ab272ed322",
        "colab": {
          "base_uri": "https://localhost:8080/",
          "height": 85
        }
      },
      "source": [
        "emptyList = []\n",
        "\n",
        "lst = ['one', 'two', 'three', 'four','five','six'] # list of strings\n",
        "\n",
        "lst2 = [1, 2, 3, 4] #list of integers\n",
        "\n",
        "lst3 = [[1, 2], [3, 4]] # list of lists\n",
        "\n",
        "lst4 = [1, 'david', 24, 1.24] # list of different datatypes\n",
        "\n",
        "print(lst)\n",
        "print(lst2)\n",
        "print(lst3)\n",
        "print(lst4)\n"
      ],
      "execution_count": 6,
      "outputs": [
        {
          "output_type": "stream",
          "text": [
            "['one', 'two', 'three', 'four', 'five', 'six']\n",
            "[1, 2, 3, 4]\n",
            "[[1, 2], [3, 4]]\n",
            "[1, 'david', 24, 1.24]\n"
          ],
          "name": "stdout"
        }
      ]
    },
    {
      "cell_type": "markdown",
      "metadata": {
        "id": "6CEa5juJaAaP",
        "colab_type": "text"
      },
      "source": [
        "# List Length"
      ]
    },
    {
      "cell_type": "code",
      "metadata": {
        "id": "ELTxkoZAaAaQ",
        "colab_type": "code",
        "outputId": "7b54c1aa-3c1f-4e55-83a4-c3b7f80edb00",
        "colab": {
          "base_uri": "https://localhost:8080/",
          "height": 34
        }
      },
      "source": [
        "lst = ['one', 'two', 'three', 'four',5]\n",
        "\n",
        "#find length of a list\n",
        "print(len(lst))"
      ],
      "execution_count": 8,
      "outputs": [
        {
          "output_type": "stream",
          "text": [
            "5\n"
          ],
          "name": "stdout"
        }
      ]
    },
    {
      "cell_type": "markdown",
      "metadata": {
        "id": "BWtzSHqEaAaT",
        "colab_type": "text"
      },
      "source": [
        "# List Append"
      ]
    },
    {
      "cell_type": "code",
      "metadata": {
        "id": "lgxkiUKRaAaU",
        "colab_type": "code",
        "outputId": "14360ec2-d452-4d99-be91-8f3b44f6e333",
        "colab": {
          "base_uri": "https://localhost:8080/",
          "height": 34
        }
      },
      "source": [
        "lst = ['one', 'two', 'three', 'four']\n",
        "\n",
        "lst.append('five') # append will add the item at the end\n",
        "\n",
        "print(lst)"
      ],
      "execution_count": 11,
      "outputs": [
        {
          "output_type": "stream",
          "text": [
            "['one', 'two', 'three', 'four', 'five']\n"
          ],
          "name": "stdout"
        }
      ]
    },
    {
      "cell_type": "markdown",
      "metadata": {
        "id": "Yk3hugoCaAaX",
        "colab_type": "text"
      },
      "source": [
        "# List Insert"
      ]
    },
    {
      "cell_type": "code",
      "metadata": {
        "id": "hxFmwInfaAaY",
        "colab_type": "code",
        "outputId": "f2f0ee9b-dfa4-4825-9a6d-4485e4336a4e",
        "colab": {
          "base_uri": "https://localhost:8080/",
          "height": 34
        }
      },
      "source": [
        "#syntax: lst.insert(x, y) \n",
        "\n",
        "lst = ['one', 'two', 'four']\n",
        "\n",
        "lst.insert(2, \"three\") # will add element y at location x\n",
        "\n",
        "print(lst)\n"
      ],
      "execution_count": 12,
      "outputs": [
        {
          "output_type": "stream",
          "text": [
            "['one', 'two', 'three', 'four']\n"
          ],
          "name": "stdout"
        }
      ]
    },
    {
      "cell_type": "markdown",
      "metadata": {
        "id": "YcGKZ45BaAab",
        "colab_type": "text"
      },
      "source": [
        "# List Remove"
      ]
    },
    {
      "cell_type": "code",
      "metadata": {
        "id": "Qz9E9r6IaAac",
        "colab_type": "code",
        "outputId": "967a9fa6-4f8c-442c-cb11-3120729efd8e",
        "colab": {
          "base_uri": "https://localhost:8080/",
          "height": 34
        }
      },
      "source": [
        "#syntax: lst.remove(x) \n",
        "\n",
        "lst = ['one', 'two', 'three', 'four', 'two']\n",
        "\n",
        "lst.remove('two') #it will remove first occurence of 'two' in a given list\n",
        "\n",
        "print(lst)"
      ],
      "execution_count": 13,
      "outputs": [
        {
          "output_type": "stream",
          "text": [
            "['one', 'three', 'four', 'two']\n"
          ],
          "name": "stdout"
        }
      ]
    },
    {
      "cell_type": "markdown",
      "metadata": {
        "id": "gP3lb_hlaAai",
        "colab_type": "text"
      },
      "source": [
        "# List Append & Extend"
      ]
    },
    {
      "cell_type": "code",
      "metadata": {
        "id": "AhQZ_S5WaAaj",
        "colab_type": "code",
        "outputId": "39606874-f91f-49db-a2ba-a07d7ba4b572",
        "colab": {
          "base_uri": "https://localhost:8080/",
          "height": 34
        }
      },
      "source": [
        "lst = ['one', 'two', 'three', 'four']\n",
        "\n",
        "lst2 = ['five', 'six']\n",
        "\n",
        "#append \n",
        "lst.append(lst2)\n",
        "\n",
        "print(lst)"
      ],
      "execution_count": 14,
      "outputs": [
        {
          "output_type": "stream",
          "text": [
            "['one', 'two', 'three', 'four', ['five', 'six']]\n"
          ],
          "name": "stdout"
        }
      ]
    },
    {
      "cell_type": "code",
      "metadata": {
        "id": "-eDRYerEaAan",
        "colab_type": "code",
        "outputId": "cd908a56-72e0-492c-ed67-15ce4f5e0cfe",
        "colab": {
          "base_uri": "https://localhost:8080/",
          "height": 34
        }
      },
      "source": [
        "lst = ['one', 'two', 'three', 'four']\n",
        "\n",
        "lst2 = ['five', 'six']\n",
        "\n",
        "#extend will join the list with list1\n",
        "\n",
        "lst.extend(lst2)\n",
        "\n",
        "print(lst)"
      ],
      "execution_count": 15,
      "outputs": [
        {
          "output_type": "stream",
          "text": [
            "['one', 'two', 'three', 'four', 'five', 'six']\n"
          ],
          "name": "stdout"
        }
      ]
    },
    {
      "cell_type": "markdown",
      "metadata": {
        "id": "HRsgFVblaAar",
        "colab_type": "text"
      },
      "source": [
        "# List Delete"
      ]
    },
    {
      "cell_type": "code",
      "metadata": {
        "id": "E0TcvgzCaAas",
        "colab_type": "code",
        "outputId": "fba85ab4-d614-4294-f479-b21dfc3509f6",
        "colab": {
          "base_uri": "https://localhost:8080/",
          "height": 68
        }
      },
      "source": [
        "#del to remove item based on index position\n",
        "\n",
        "lst = ['one', 'two', 'three', 'four', 'five']\n",
        "\n",
        "del lst[3]\n",
        "print(lst)\n",
        "\n",
        "#or we can use pop() method\n",
        "a = lst.pop(2)\n",
        "print(a)\n",
        "\n",
        "print(lst)"
      ],
      "execution_count": 16,
      "outputs": [
        {
          "output_type": "stream",
          "text": [
            "['one', 'two', 'three', 'five']\n",
            "three\n",
            "['one', 'two', 'five']\n"
          ],
          "name": "stdout"
        }
      ]
    },
    {
      "cell_type": "code",
      "metadata": {
        "id": "QZy8YqvraAav",
        "colab_type": "code",
        "outputId": "59d9da15-b97f-4df3-ace3-a67ab484b772",
        "colab": {
          "base_uri": "https://localhost:8080/",
          "height": 34
        }
      },
      "source": [
        "lst = ['one', 'two', 'three', 'four']\n",
        "\n",
        "#remove an item from list\n",
        "lst.remove('three')\n",
        "\n",
        "print(lst)"
      ],
      "execution_count": 17,
      "outputs": [
        {
          "output_type": "stream",
          "text": [
            "['one', 'two', 'four']\n"
          ],
          "name": "stdout"
        }
      ]
    },
    {
      "cell_type": "markdown",
      "metadata": {
        "id": "B3taZUwqaAax",
        "colab_type": "text"
      },
      "source": [
        "# List related keywords in Python"
      ]
    },
    {
      "cell_type": "code",
      "metadata": {
        "id": "KnvMpRFCaAay",
        "colab_type": "code",
        "outputId": "2b185f09-9734-4ac0-e4f1-661e7216becf",
        "colab": {
          "base_uri": "https://localhost:8080/",
          "height": 51
        }
      },
      "source": [
        "#keyword 'in' is used to test if an item is in a list\n",
        "lst = ['one', 'two', 'three', 'four']\n",
        "\n",
        "if 'two' in lst:\n",
        "    print('WOW ')\n",
        "\n",
        "#keyword 'not' can combined with 'in'\n",
        "if 'six' not in lst:\n",
        "    print('Oh NO')"
      ],
      "execution_count": 18,
      "outputs": [
        {
          "output_type": "stream",
          "text": [
            "WOW \n",
            "Oh NO\n"
          ],
          "name": "stdout"
        }
      ]
    },
    {
      "cell_type": "markdown",
      "metadata": {
        "id": "ikBpRbI9aAa2",
        "colab_type": "text"
      },
      "source": [
        "# List Reverse"
      ]
    },
    {
      "cell_type": "code",
      "metadata": {
        "id": "RQqzW-mEaAa3",
        "colab_type": "code",
        "outputId": "163aab43-d969-4fa5-c5c6-f84859cc3105",
        "colab": {
          "base_uri": "https://localhost:8080/",
          "height": 34
        }
      },
      "source": [
        "#reverse is reverses the entire list\n",
        "\n",
        "lst = ['one', 'two', 'three', 'four']\n",
        "\n",
        "lst.reverse()\n",
        "\n",
        "print(lst)"
      ],
      "execution_count": 19,
      "outputs": [
        {
          "output_type": "stream",
          "text": [
            "['four', 'three', 'two', 'one']\n"
          ],
          "name": "stdout"
        }
      ]
    },
    {
      "cell_type": "markdown",
      "metadata": {
        "id": "o9lI--gRaAa7",
        "colab_type": "text"
      },
      "source": [
        "# List Sorting"
      ]
    },
    {
      "cell_type": "markdown",
      "metadata": {
        "id": "lUTiW5mcaAa8",
        "colab_type": "text"
      },
      "source": [
        "The easiest way to sort a List is with the sorted(list) function. \n",
        "\n",
        "That takes a list and returns a new list with those elements in sorted order. \n",
        "\n",
        "The original list is not changed. \n",
        "\n",
        "The sorted() optional argument reverse=True, e.g. sorted(list, reverse=True), \n",
        "makes it sort backwards."
      ]
    },
    {
      "cell_type": "code",
      "metadata": {
        "id": "LegBovHtaAa9",
        "colab_type": "code",
        "outputId": "c9c1a18d-872c-4f9e-9b3f-5ad7fbd68232",
        "colab": {
          "base_uri": "https://localhost:8080/",
          "height": 51
        }
      },
      "source": [
        "#create a list with numbers\n",
        "numbers = [3, 1, 6, 2, 8]\n",
        "\n",
        "sorted_lst = sorted(numbers)\n",
        "\n",
        "\n",
        "print(\"Sorted list :\", sorted_lst)\n",
        "\n",
        "#original list remain unchanged\n",
        "print(\"Original list: \", numbers)"
      ],
      "execution_count": 20,
      "outputs": [
        {
          "output_type": "stream",
          "text": [
            "Sorted list : [1, 2, 3, 6, 8]\n",
            "Original list:  [3, 1, 6, 2, 8]\n"
          ],
          "name": "stdout"
        }
      ]
    },
    {
      "cell_type": "code",
      "metadata": {
        "id": "qT_4cI63aAbB",
        "colab_type": "code",
        "outputId": "3f0c5d54-3e50-4cd6-e91d-40f3b5f1b2a3",
        "colab": {
          "base_uri": "https://localhost:8080/",
          "height": 51
        }
      },
      "source": [
        "#print a list in reverse sorted order\n",
        "print(\"Reverse sorted list :\", sorted(numbers, reverse=True))\n",
        "\n",
        "#orginal list remain unchanged\n",
        "print(\"Original list :\",  numbers)"
      ],
      "execution_count": 23,
      "outputs": [
        {
          "output_type": "stream",
          "text": [
            "Reverse sorted list : [8, 6, 3, 2, 1]\n",
            "Original list : [3, 1, 6, 2, 8]\n"
          ],
          "name": "stdout"
        }
      ]
    },
    {
      "cell_type": "code",
      "metadata": {
        "id": "7YLaz7thaAbF",
        "colab_type": "code",
        "outputId": "de983ec7-f38a-427a-9fcf-42882646061c",
        "colab": {
          "base_uri": "https://localhost:8080/",
          "height": 34
        }
      },
      "source": [
        "lst = [1, 20, 5, 5, 4.2]\n",
        "\n",
        "#sort the list and stored in itself\n",
        "lst.sort()\n",
        "\n",
        "# add element 'a' to the list to show an error\n",
        "\n",
        "print(\"Sorted list: \", lst)"
      ],
      "execution_count": 24,
      "outputs": [
        {
          "output_type": "stream",
          "text": [
            "Sorted list:  [1, 4.2, 5, 5, 20]\n"
          ],
          "name": "stdout"
        }
      ]
    },
    {
      "cell_type": "code",
      "metadata": {
        "id": "WfPzBE_-aAbI",
        "colab_type": "code",
        "outputId": "bbbf76f2-169f-4875-953b-d224feb0f0c5",
        "colab": {}
      },
      "source": [
        "lst = [1, 20, 'b', 5, 'a']\n",
        "print(lst.sort()) # sort list with element of different datatypes.\n"
      ],
      "execution_count": 0,
      "outputs": [
        {
          "output_type": "error",
          "ename": "TypeError",
          "evalue": "'<' not supported between instances of 'str' and 'int'",
          "traceback": [
            "\u001b[0;31m---------------------------------------------------------------------------\u001b[0m",
            "\u001b[0;31mTypeError\u001b[0m                                 Traceback (most recent call last)",
            "\u001b[0;32m<ipython-input-18-98d08ff0e3ba>\u001b[0m in \u001b[0;36m<module>\u001b[0;34m()\u001b[0m\n\u001b[1;32m      1\u001b[0m \u001b[0mlst\u001b[0m \u001b[0;34m=\u001b[0m \u001b[0;34m[\u001b[0m\u001b[0;36m1\u001b[0m\u001b[0;34m,\u001b[0m \u001b[0;36m20\u001b[0m\u001b[0;34m,\u001b[0m \u001b[0;34m'b'\u001b[0m\u001b[0;34m,\u001b[0m \u001b[0;36m5\u001b[0m\u001b[0;34m,\u001b[0m \u001b[0;34m'a'\u001b[0m\u001b[0;34m]\u001b[0m\u001b[0;34m\u001b[0m\u001b[0m\n\u001b[0;32m----> 2\u001b[0;31m \u001b[0mprint\u001b[0m\u001b[0;34m(\u001b[0m\u001b[0mlst\u001b[0m\u001b[0;34m.\u001b[0m\u001b[0msort\u001b[0m\u001b[0;34m(\u001b[0m\u001b[0;34m)\u001b[0m\u001b[0;34m)\u001b[0m\u001b[0;34m\u001b[0m\u001b[0m\n\u001b[0m",
            "\u001b[0;31mTypeError\u001b[0m: '<' not supported between instances of 'str' and 'int'"
          ]
        }
      ]
    },
    {
      "cell_type": "markdown",
      "metadata": {
        "id": "eI34dleeaAbK",
        "colab_type": "text"
      },
      "source": [
        "# List Having Multiple References"
      ]
    },
    {
      "cell_type": "code",
      "metadata": {
        "id": "BcmPLhR6aAbM",
        "colab_type": "code",
        "outputId": "a869be45-ff61-4d4a-b991-8b198d463a0b",
        "colab": {
          "base_uri": "https://localhost:8080/",
          "height": 34
        }
      },
      "source": [
        "lst = [1, 2, 3, 4, 5]\n",
        "abc = lst\n",
        "abc.append(6)\n",
        "\n",
        "#print original list\n",
        "print(\"Original list: \", lst)"
      ],
      "execution_count": 25,
      "outputs": [
        {
          "output_type": "stream",
          "text": [
            "Original list:  [1, 2, 3, 4, 5, 6]\n"
          ],
          "name": "stdout"
        }
      ]
    },
    {
      "cell_type": "markdown",
      "metadata": {
        "id": "nsmc6A1YaAbP",
        "colab_type": "text"
      },
      "source": [
        "# String Split to create a list"
      ]
    },
    {
      "cell_type": "code",
      "metadata": {
        "scrolled": true,
        "id": "YPLVh4TjaAbP",
        "colab_type": "code",
        "outputId": "11c14421-3403-4f34-8114-923afa3f61b5",
        "colab": {
          "base_uri": "https://localhost:8080/",
          "height": 34
        }
      },
      "source": [
        "#let's take a string\n",
        "\n",
        "s = \"one,two,three,four,five\"\n",
        "slst = s.split(',')\n",
        "print(slst)"
      ],
      "execution_count": 28,
      "outputs": [
        {
          "output_type": "stream",
          "text": [
            "['one', 'two', 'three', 'four', 'five']\n"
          ],
          "name": "stdout"
        }
      ]
    },
    {
      "cell_type": "code",
      "metadata": {
        "id": "PBYLi_UjaAbS",
        "colab_type": "code",
        "outputId": "f63e81d9-f19c-4b19-c43c-d1c7ef30fd87",
        "colab": {
          "base_uri": "https://localhost:8080/",
          "height": 34
        }
      },
      "source": [
        "s = \"This is applied AI Course\"\n",
        "split_lst = s.split() # default split is white-character: space or tab\n",
        "print(split_lst)"
      ],
      "execution_count": 29,
      "outputs": [
        {
          "output_type": "stream",
          "text": [
            "['This', 'is', 'applied', 'AI', 'Course']\n"
          ],
          "name": "stdout"
        }
      ]
    },
    {
      "cell_type": "markdown",
      "metadata": {
        "id": "i0FJbejqaAbU",
        "colab_type": "text"
      },
      "source": [
        "# List Indexing"
      ]
    },
    {
      "cell_type": "markdown",
      "metadata": {
        "id": "_ZJom4VxaAbW",
        "colab_type": "text"
      },
      "source": [
        "Each item in the list has an assigned index value starting from 0.\n",
        "\n",
        "Accessing elements in a list is called indexing."
      ]
    },
    {
      "cell_type": "code",
      "metadata": {
        "id": "_vYi0oRbaAbW",
        "colab_type": "code",
        "outputId": "01cf7ffc-2cd2-442b-bce5-36515eb5b32c",
        "colab": {
          "base_uri": "https://localhost:8080/",
          "height": 51
        }
      },
      "source": [
        "lst = [1, 2, 3, 4]\n",
        "print(lst[1]) #print second element\n",
        "\n",
        "#print last element using negative index\n",
        "print(lst[-2])"
      ],
      "execution_count": 30,
      "outputs": [
        {
          "output_type": "stream",
          "text": [
            "2\n",
            "3\n"
          ],
          "name": "stdout"
        }
      ]
    },
    {
      "cell_type": "markdown",
      "metadata": {
        "id": "ihTfiGnGaAba",
        "colab_type": "text"
      },
      "source": [
        "# List Slicing"
      ]
    },
    {
      "cell_type": "markdown",
      "metadata": {
        "id": "HJ6BnCxJaAba",
        "colab_type": "text"
      },
      "source": [
        "Accessing parts of segments is called slicing. \n",
        "\n",
        "The key point to remember is that the :end value represents the first value that \n",
        "is not in the selected slice. "
      ]
    },
    {
      "cell_type": "code",
      "metadata": {
        "id": "yadzqSHAaAbc",
        "colab_type": "code",
        "outputId": "e93924ee-dbae-4688-d2ae-d666aac14e80",
        "colab": {
          "base_uri": "https://localhost:8080/",
          "height": 51
        }
      },
      "source": [
        "numbers = [10, 20, 30, 40, 50,60,70,80]\n",
        "\n",
        "#print all numbers\n",
        "print(numbers[:]) \n",
        "\n",
        "#print from index 0 to index 3\n",
        "print(numbers[0:4])\n"
      ],
      "execution_count": 31,
      "outputs": [
        {
          "output_type": "stream",
          "text": [
            "[10, 20, 30, 40, 50, 60, 70, 80]\n",
            "[10, 20, 30, 40]\n"
          ],
          "name": "stdout"
        }
      ]
    },
    {
      "cell_type": "code",
      "metadata": {
        "id": "ESlZQ2aNaAbf",
        "colab_type": "code",
        "outputId": "b62f05e9-031d-40de-d785-043d59160e45",
        "colab": {}
      },
      "source": [
        "print (numbers)\n",
        "#print alternate elements in a list\n",
        "print(numbers[::2])\n",
        "\n",
        "\n",
        "#print elemnts start from 0 through rest of the list\n",
        "print(numbers[2::2])\n"
      ],
      "execution_count": 0,
      "outputs": [
        {
          "output_type": "stream",
          "text": [
            "[10, 20, 30, 40, 50, 60, 70, 80]\n",
            "[10, 30, 50, 70]\n",
            "[30, 50, 70]\n"
          ],
          "name": "stdout"
        }
      ]
    },
    {
      "cell_type": "markdown",
      "metadata": {
        "id": "69BXgb4YaAbh",
        "colab_type": "text"
      },
      "source": [
        "# List extend using \"+\""
      ]
    },
    {
      "cell_type": "code",
      "metadata": {
        "id": "paZsLKU7aAbh",
        "colab_type": "code",
        "outputId": "11e72b0d-ce90-41d8-b15a-8555a1b4eaa8",
        "colab": {
          "base_uri": "https://localhost:8080/",
          "height": 34
        }
      },
      "source": [
        "lst1 = [1, 2, 3, 4]\n",
        "lst2 = ['varma', 'naveen', 'murali', 'brahma']\n",
        "new_lst = lst1 + lst2\n",
        "\n",
        "print(new_lst)"
      ],
      "execution_count": 32,
      "outputs": [
        {
          "output_type": "stream",
          "text": [
            "[1, 2, 3, 4, 'varma', 'naveen', 'murali', 'brahma']\n"
          ],
          "name": "stdout"
        }
      ]
    },
    {
      "cell_type": "markdown",
      "metadata": {
        "id": "zR8AY0YCaAbk",
        "colab_type": "text"
      },
      "source": [
        "# List Count"
      ]
    },
    {
      "cell_type": "code",
      "metadata": {
        "id": "xLWcn0TcaAbl",
        "colab_type": "code",
        "outputId": "1f1e0e56-4bd3-4386-dc2a-6b8dc3764553",
        "colab": {
          "base_uri": "https://localhost:8080/",
          "height": 51
        }
      },
      "source": [
        "numbers = [1, 2, 3, 1, 3, 4, 2, 5]\n",
        "\n",
        "#frequency of 1 in a list\n",
        "print(numbers.count(1))\n",
        "\n",
        "#frequency of 3 in a list\n",
        "print(numbers.count(3))"
      ],
      "execution_count": 35,
      "outputs": [
        {
          "output_type": "stream",
          "text": [
            "2\n",
            "2\n"
          ],
          "name": "stdout"
        }
      ]
    },
    {
      "cell_type": "markdown",
      "metadata": {
        "id": "Ttuq4WbPaAbn",
        "colab_type": "text"
      },
      "source": [
        "# List Looping"
      ]
    },
    {
      "cell_type": "code",
      "metadata": {
        "id": "gGBIUhMvaAbn",
        "colab_type": "code",
        "outputId": "9aa69b8b-36c2-4ce6-b827-367588aa21e3",
        "colab": {
          "base_uri": "https://localhost:8080/",
          "height": 85
        }
      },
      "source": [
        "#loop through a list\n",
        "\n",
        "lst = ['one', 'two', 'three', 'four']\n",
        "\n",
        "for ele in lst:\n",
        "    print(ele)"
      ],
      "execution_count": 36,
      "outputs": [
        {
          "output_type": "stream",
          "text": [
            "one\n",
            "two\n",
            "three\n",
            "four\n"
          ],
          "name": "stdout"
        }
      ]
    },
    {
      "cell_type": "markdown",
      "metadata": {
        "id": "-EZO9D31aAbq",
        "colab_type": "text"
      },
      "source": [
        "# List Comprehensions"
      ]
    },
    {
      "cell_type": "markdown",
      "metadata": {
        "id": "y8DXRBM_aAbq",
        "colab_type": "text"
      },
      "source": [
        "List comprehensions provide a concise way to create lists. \n",
        "\n",
        "Common applications are to make new lists where each element is the result of some operations applied to each member of another sequence or iterable, or to create a subsequence of those elements that satisfy a certain condition."
      ]
    },
    {
      "cell_type": "code",
      "metadata": {
        "id": "-rHP7zw_aAbr",
        "colab_type": "code",
        "outputId": "5adc1c49-9633-47bb-a83a-bf144dd1bbbb",
        "colab": {}
      },
      "source": [
        "# without list comprehension\n",
        "squares = []\n",
        "for i in range(10):\n",
        "    squares.append(i**2)   #list append\n",
        "print(squares)"
      ],
      "execution_count": 0,
      "outputs": [
        {
          "output_type": "stream",
          "text": [
            "[0, 1, 4, 9, 16, 25, 36, 49, 64, 81]\n"
          ],
          "name": "stdout"
        }
      ]
    },
    {
      "cell_type": "code",
      "metadata": {
        "id": "CS6fvT8daAbu",
        "colab_type": "code",
        "outputId": "deae7976-d26e-4e4c-84b4-448066925741",
        "colab": {
          "base_uri": "https://localhost:8080/",
          "height": 34
        }
      },
      "source": [
        "#using list comprehension\n",
        "squares = [i**2 for i in range(10)]\n",
        "print(squares)"
      ],
      "execution_count": 39,
      "outputs": [
        {
          "output_type": "stream",
          "text": [
            "[0, 1, 4, 9, 16, 25, 36, 49, 64, 81]\n"
          ],
          "name": "stdout"
        }
      ]
    },
    {
      "cell_type": "code",
      "metadata": {
        "id": "N-v4Y9KDaAbw",
        "colab_type": "code",
        "outputId": "83d7e159-9468-42f6-a4c8-d789702d259d",
        "colab": {
          "base_uri": "https://localhost:8080/",
          "height": 68
        }
      },
      "source": [
        "#example\n",
        "\n",
        "lst = [-10, -20, 10, 20, 50]\n",
        "\n",
        "#create a new list with values doubled\n",
        "new_lst = [i*2 for i in lst]\n",
        "print(new_lst)\n",
        "\n",
        "#filter the list to exclude negative numbers\n",
        "new_lst = [i for i in lst if i >= 0]\n",
        "print(new_lst)\n",
        "\n",
        "\n",
        "#create a list of tuples like (number, square_of_number)\n",
        "new_lst = [(i, i**2) for i in range(10)]\n",
        "print(new_lst)"
      ],
      "execution_count": 40,
      "outputs": [
        {
          "output_type": "stream",
          "text": [
            "[-20, -40, 20, 40, 100]\n",
            "[10, 20, 50]\n",
            "[(0, 0), (1, 1), (2, 4), (3, 9), (4, 16), (5, 25), (6, 36), (7, 49), (8, 64), (9, 81)]\n"
          ],
          "name": "stdout"
        }
      ]
    },
    {
      "cell_type": "markdown",
      "metadata": {
        "id": "Sp6JeODZaAb5",
        "colab_type": "text"
      },
      "source": [
        "# Nested List Comprehensions"
      ]
    },
    {
      "cell_type": "code",
      "metadata": {
        "id": "I7FzVx3CaAb5",
        "colab_type": "code",
        "outputId": "c8e811a4-1eff-41fc-89e5-96131e88de23",
        "colab": {
          "base_uri": "https://localhost:8080/",
          "height": 34
        }
      },
      "source": [
        "#let's suppose we have a matrix\n",
        "\n",
        "matrix = [\n",
        "    [1, 2, 3, 4],\n",
        "    [5, 6, 7, 8],\n",
        "    [9, 10, 11, 12]\n",
        "]\n",
        "\n",
        "#transpose of a matrix without list comprehension\n",
        "transposed = []\n",
        "for i in range(4):\n",
        "    lst = []\n",
        "    for row in matrix:\n",
        "        lst.append(row[i])\n",
        "    transposed.append(lst)\n",
        "\n",
        "print(transposed)\n"
      ],
      "execution_count": 41,
      "outputs": [
        {
          "output_type": "stream",
          "text": [
            "[[1, 5, 9], [2, 6, 10], [3, 7, 11], [4, 8, 12]]\n"
          ],
          "name": "stdout"
        }
      ]
    },
    {
      "cell_type": "code",
      "metadata": {
        "id": "bc0Ij-kaaAb8",
        "colab_type": "code",
        "outputId": "6bd25f3f-c5fe-4350-c3a3-672b35ff2877",
        "colab": {
          "base_uri": "https://localhost:8080/",
          "height": 34
        }
      },
      "source": [
        "#with list comprehension\n",
        "transposed = [[row[i] for row in matrix] for i in range(4)]\n",
        "print(transposed)"
      ],
      "execution_count": 45,
      "outputs": [
        {
          "output_type": "stream",
          "text": [
            "[[1, 5, 9], [2, 6, 10], [3, 7, 11], [4, 8, 12]]\n"
          ],
          "name": "stdout"
        }
      ]
    },
    {
      "cell_type": "code",
      "metadata": {
        "id": "__DT4BWEaAb_",
        "colab_type": "code",
        "colab": {}
      },
      "source": [
        ""
      ],
      "execution_count": 0,
      "outputs": []
    }
  ]
}